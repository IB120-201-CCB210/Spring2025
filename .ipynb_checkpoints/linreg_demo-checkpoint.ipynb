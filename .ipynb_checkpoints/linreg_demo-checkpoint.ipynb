{
 "cells": [
  {
   "cell_type": "code",
   "execution_count": 1,
   "id": "a2d34ea9-43b1-488b-b6ea-59fa086c2a52",
   "metadata": {},
   "outputs": [
    {
     "name": "stderr",
     "output_type": "stream",
     "text": [
      "── \u001b[1mAttaching packages\u001b[22m ─────────────────────────────────────── tidyverse 1.3.0 ──\n",
      "\n",
      "\u001b[32m✔\u001b[39m \u001b[34mggplot2\u001b[39m 3.5.1     \u001b[32m✔\u001b[39m \u001b[34mpurrr  \u001b[39m 1.0.4\n",
      "\u001b[32m✔\u001b[39m \u001b[34mtibble \u001b[39m 3.2.1     \u001b[32m✔\u001b[39m \u001b[34mdplyr  \u001b[39m 1.1.4\n",
      "\u001b[32m✔\u001b[39m \u001b[34mtidyr  \u001b[39m 1.3.1     \u001b[32m✔\u001b[39m \u001b[34mstringr\u001b[39m 1.5.1\n",
      "\u001b[32m✔\u001b[39m \u001b[34mreadr  \u001b[39m 2.1.5     \u001b[32m✔\u001b[39m \u001b[34mforcats\u001b[39m 1.0.0\n",
      "\n",
      "── \u001b[1mConflicts\u001b[22m ────────────────────────────────────────── tidyverse_conflicts() ──\n",
      "\u001b[31m✖\u001b[39m \u001b[34mdplyr\u001b[39m::\u001b[32mfilter()\u001b[39m masks \u001b[34mstats\u001b[39m::filter()\n",
      "\u001b[31m✖\u001b[39m \u001b[34mdplyr\u001b[39m::\u001b[32mlag()\u001b[39m    masks \u001b[34mstats\u001b[39m::lag()\n",
      "\n"
     ]
    }
   ],
   "source": [
    "library(tidyverse)"
   ]
  },
  {
   "cell_type": "code",
   "execution_count": 2,
   "id": "f3b3e313-a2d2-46d9-80a2-0568b7269542",
   "metadata": {},
   "outputs": [
    {
     "data": {
      "text/html": [
       "\n",
       "<table style=\"width: 100%;\"><tr><td>trees {datasets}</td><td style=\"text-align: right;\">R Documentation</td></tr></table>\n",
       "\n",
       "<h2>Diameter, Height and Volume for Black Cherry Trees</h2>\n",
       "\n",
       "<h3>Description</h3>\n",
       "\n",
       "<p>This data set provides measurements of the diameter, height and volume\n",
       "of timber in 31 felled black cherry trees.  Note that the diameter (in inches) is erroneously\n",
       "labelled Girth in the data. It is measured at 4 ft 6 in above the ground.\n",
       "</p>\n",
       "\n",
       "\n",
       "<h3>Usage</h3>\n",
       "\n",
       "<pre><code class='language-R'>trees</code></pre>\n",
       "\n",
       "\n",
       "<h3>Format</h3>\n",
       "\n",
       "<p>A data frame with 31 observations on 3 variables.\n",
       "</p>\n",
       "\n",
       "<table>\n",
       "<tr>\n",
       " <td style=\"text-align: right;\">\n",
       "    <code>[,1]</code> </td><td style=\"text-align: left;\"> <code>Girth</code> </td><td style=\"text-align: left;\"> numeric\n",
       "    </td><td style=\"text-align: left;\"> Tree diameter (rather than girth, actually) in inches</td>\n",
       "</tr>\n",
       "<tr>\n",
       " <td style=\"text-align: right;\">\n",
       "    <code>[,2]</code> </td><td style=\"text-align: left;\"> <code>Height</code></td><td style=\"text-align: left;\"> numeric\n",
       "    </td><td style=\"text-align: left;\"> Height in ft</td>\n",
       "</tr>\n",
       "<tr>\n",
       " <td style=\"text-align: right;\">\n",
       "    <code>[,3]</code> </td><td style=\"text-align: left;\"> <code>Volume</code></td><td style=\"text-align: left;\"> numeric\n",
       "    </td><td style=\"text-align: left;\"> Volume of timber in cubic ft</td>\n",
       "</tr>\n",
       "\n",
       "</table>\n",
       "\n",
       "\n",
       "\n",
       "<h3>Source</h3>\n",
       "\n",
       "<p>Meyer, H. A. (1953)\n",
       "<em>Forest Mensuration</em>.\n",
       "Penns Valley Publishers, Inc.\n",
       "</p>\n",
       "<p>Ryan, T. A., Joiner, B. L. and Ryan, B. F. (1976)\n",
       "<em>The Minitab Student Handbook</em>.\n",
       "Duxbury Press.\n",
       "</p>\n",
       "\n",
       "\n",
       "<h3>References</h3>\n",
       "\n",
       "<p>Atkinson, A. C. (1985)\n",
       "<em>Plots, Transformations and Regression</em>.\n",
       "Oxford University Press.\n",
       "</p>\n",
       "\n",
       "\n",
       "<h3>Examples</h3>\n",
       "\n",
       "<pre><code class='language-R'>require(stats); require(graphics)\n",
       "pairs(trees, panel = panel.smooth, main = \"trees data\")\n",
       "plot(Volume ~ Girth, data = trees, log = \"xy\")\n",
       "coplot(log(Volume) ~ log(Girth) | Height, data = trees,\n",
       "       panel = panel.smooth)\n",
       "summary(fm1 &lt;- lm(log(Volume) ~ log(Girth), data = trees))\n",
       "summary(fm2 &lt;- update(fm1, ~ . + log(Height), data = trees))\n",
       "step(fm2)\n",
       "## i.e., Volume ~= c * Height * Girth^2  seems reasonable\n",
       "</code></pre>\n",
       "\n",
       "<hr /><div style=\"text-align: center;\">[Package <em>datasets</em> version 4.4.2 ]</div></main>\n",
       "\n",
       "</div>"
      ],
      "text/latex": [
       "\\inputencoding{utf8}\n",
       "\\HeaderA{trees}{Diameter, Height and Volume for Black Cherry Trees}{trees}\n",
       "\\keyword{datasets}{trees}\n",
       "%\n",
       "\\begin{Description}\n",
       "This data set provides measurements of the diameter, height and volume\n",
       "of timber in 31 felled black cherry trees.  Note that the diameter (in inches) is erroneously\n",
       "labelled Girth in the data. It is measured at 4 ft 6 in above the ground.\n",
       "\\end{Description}\n",
       "%\n",
       "\\begin{Usage}\n",
       "\\begin{verbatim}\n",
       "trees\n",
       "\\end{verbatim}\n",
       "\\end{Usage}\n",
       "%\n",
       "\\begin{Format}\n",
       "A data frame with 31 observations on 3 variables.\n",
       "\n",
       "\\Tabular{rlll}{\n",
       "\\code{[,1]} & \\code{Girth} & numeric\n",
       "& Tree diameter (rather than girth, actually) in inches\\\\{}\n",
       "\\code{[,2]} & \\code{Height}& numeric\n",
       "& Height in ft\\\\{}\n",
       "\\code{[,3]} & \\code{Volume}& numeric\n",
       "& Volume of timber in cubic ft\\\\{}}\n",
       "\\end{Format}\n",
       "%\n",
       "\\begin{Source}\n",
       "Meyer, H. A. (1953)\n",
       "\\emph{Forest Mensuration}.\n",
       "Penns Valley Publishers, Inc.\n",
       "\n",
       "Ryan, T. A., Joiner, B. L. and Ryan, B. F. (1976)\n",
       "\\emph{The Minitab Student Handbook}.\n",
       "Duxbury Press.\n",
       "\\end{Source}\n",
       "%\n",
       "\\begin{References}\n",
       "Atkinson, A. C. (1985)\n",
       "\\emph{Plots, Transformations and Regression}.\n",
       "Oxford University Press.\n",
       "\\end{References}\n",
       "%\n",
       "\\begin{Examples}\n",
       "\\begin{ExampleCode}\n",
       "require(stats); require(graphics)\n",
       "pairs(trees, panel = panel.smooth, main = \"trees data\")\n",
       "plot(Volume ~ Girth, data = trees, log = \"xy\")\n",
       "coplot(log(Volume) ~ log(Girth) | Height, data = trees,\n",
       "       panel = panel.smooth)\n",
       "summary(fm1 <- lm(log(Volume) ~ log(Girth), data = trees))\n",
       "summary(fm2 <- update(fm1, ~ . + log(Height), data = trees))\n",
       "step(fm2)\n",
       "## i.e., Volume ~= c * Height * Girth^2  seems reasonable\n",
       "\\end{ExampleCode}\n",
       "\\end{Examples}"
      ],
      "text/plain": [
       "trees                 package:datasets                 R Documentation\n",
       "\n",
       "_\bD_\bi_\ba_\bm_\be_\bt_\be_\br, _\bH_\be_\bi_\bg_\bh_\bt _\ba_\bn_\bd _\bV_\bo_\bl_\bu_\bm_\be _\bf_\bo_\br _\bB_\bl_\ba_\bc_\bk _\bC_\bh_\be_\br_\br_\by _\bT_\br_\be_\be_\bs\n",
       "\n",
       "_\bD_\be_\bs_\bc_\br_\bi_\bp_\bt_\bi_\bo_\bn:\n",
       "\n",
       "     This data set provides measurements of the diameter, height and\n",
       "     volume of timber in 31 felled black cherry trees.  Note that the\n",
       "     diameter (in inches) is erroneously labelled Girth in the data. It\n",
       "     is measured at 4 ft 6 in above the ground.\n",
       "\n",
       "_\bU_\bs_\ba_\bg_\be:\n",
       "\n",
       "     trees\n",
       "     \n",
       "_\bF_\bo_\br_\bm_\ba_\bt:\n",
       "\n",
       "     A data frame with 31 observations on 3 variables.\n",
       "\n",
       "       ‘[,1]’  ‘Girth’   numeric  Tree diameter (rather than girth, actually) in inches \n",
       "       ‘[,2]’  ‘Height’  numeric  Height in ft                                          \n",
       "       ‘[,3]’  ‘Volume’  numeric  Volume of timber in cubic ft                          \n",
       "      \n",
       "_\bS_\bo_\bu_\br_\bc_\be:\n",
       "\n",
       "     Meyer, H. A. (1953) _Forest Mensuration_.  Penns Valley\n",
       "     Publishers, Inc.\n",
       "\n",
       "     Ryan, T. A., Joiner, B. L. and Ryan, B. F. (1976) _The Minitab\n",
       "     Student Handbook_.  Duxbury Press.\n",
       "\n",
       "_\bR_\be_\bf_\be_\br_\be_\bn_\bc_\be_\bs:\n",
       "\n",
       "     Atkinson, A. C. (1985) _Plots, Transformations and Regression_.\n",
       "     Oxford University Press.\n",
       "\n",
       "_\bE_\bx_\ba_\bm_\bp_\bl_\be_\bs:\n",
       "\n",
       "     require(stats); require(graphics)\n",
       "     pairs(trees, panel = panel.smooth, main = \"trees data\")\n",
       "     plot(Volume ~ Girth, data = trees, log = \"xy\")\n",
       "     coplot(log(Volume) ~ log(Girth) | Height, data = trees,\n",
       "            panel = panel.smooth)\n",
       "     summary(fm1 <- lm(log(Volume) ~ log(Girth), data = trees))\n",
       "     summary(fm2 <- update(fm1, ~ . + log(Height), data = trees))\n",
       "     step(fm2)\n",
       "     ## i.e., Volume ~= c * Height * Girth^2  seems reasonable\n",
       "     "
      ]
     },
     "metadata": {},
     "output_type": "display_data"
    }
   ],
   "source": [
    "# check out the 'trees' dataset pre-loaded into R\n",
    "?trees"
   ]
  },
  {
   "cell_type": "code",
   "execution_count": 6,
   "id": "f69b4ede-247d-4396-a116-66aae2b020c3",
   "metadata": {},
   "outputs": [
    {
     "data": {
      "text/html": [
       "<table class=\"dataframe\">\n",
       "<caption>A data.frame: 6 × 3</caption>\n",
       "<thead>\n",
       "\t<tr><th></th><th scope=col>diam</th><th scope=col>height</th><th scope=col>vol</th></tr>\n",
       "\t<tr><th></th><th scope=col>&lt;dbl&gt;</th><th scope=col>&lt;dbl&gt;</th><th scope=col>&lt;dbl&gt;</th></tr>\n",
       "</thead>\n",
       "<tbody>\n",
       "\t<tr><th scope=row>1</th><td> 8.3</td><td>70</td><td>10.3</td></tr>\n",
       "\t<tr><th scope=row>2</th><td> 8.6</td><td>65</td><td>10.3</td></tr>\n",
       "\t<tr><th scope=row>3</th><td> 8.8</td><td>63</td><td>10.2</td></tr>\n",
       "\t<tr><th scope=row>4</th><td>10.5</td><td>72</td><td>16.4</td></tr>\n",
       "\t<tr><th scope=row>5</th><td>10.7</td><td>81</td><td>18.8</td></tr>\n",
       "\t<tr><th scope=row>6</th><td>10.8</td><td>83</td><td>19.7</td></tr>\n",
       "</tbody>\n",
       "</table>\n"
      ],
      "text/latex": [
       "A data.frame: 6 × 3\n",
       "\\begin{tabular}{r|lll}\n",
       "  & diam & height & vol\\\\\n",
       "  & <dbl> & <dbl> & <dbl>\\\\\n",
       "\\hline\n",
       "\t1 &  8.3 & 70 & 10.3\\\\\n",
       "\t2 &  8.6 & 65 & 10.3\\\\\n",
       "\t3 &  8.8 & 63 & 10.2\\\\\n",
       "\t4 & 10.5 & 72 & 16.4\\\\\n",
       "\t5 & 10.7 & 81 & 18.8\\\\\n",
       "\t6 & 10.8 & 83 & 19.7\\\\\n",
       "\\end{tabular}\n"
      ],
      "text/markdown": [
       "\n",
       "A data.frame: 6 × 3\n",
       "\n",
       "| <!--/--> | diam &lt;dbl&gt; | height &lt;dbl&gt; | vol &lt;dbl&gt; |\n",
       "|---|---|---|---|\n",
       "| 1 |  8.3 | 70 | 10.3 |\n",
       "| 2 |  8.6 | 65 | 10.3 |\n",
       "| 3 |  8.8 | 63 | 10.2 |\n",
       "| 4 | 10.5 | 72 | 16.4 |\n",
       "| 5 | 10.7 | 81 | 18.8 |\n",
       "| 6 | 10.8 | 83 | 19.7 |\n",
       "\n"
      ],
      "text/plain": [
       "  diam height vol \n",
       "1  8.3 70     10.3\n",
       "2  8.6 65     10.3\n",
       "3  8.8 63     10.2\n",
       "4 10.5 72     16.4\n",
       "5 10.7 81     18.8\n",
       "6 10.8 83     19.7"
      ]
     },
     "metadata": {},
     "output_type": "display_data"
    },
    {
     "data": {
      "text/html": [
       "<style>\n",
       ".list-inline {list-style: none; margin:0; padding: 0}\n",
       ".list-inline>li {display: inline-block}\n",
       ".list-inline>li:not(:last-child)::after {content: \"\\00b7\"; padding: 0 .5ex}\n",
       "</style>\n",
       "<ol class=list-inline><li>31</li><li>3</li></ol>\n"
      ],
      "text/latex": [
       "\\begin{enumerate*}\n",
       "\\item 31\n",
       "\\item 3\n",
       "\\end{enumerate*}\n"
      ],
      "text/markdown": [
       "1. 31\n",
       "2. 3\n",
       "\n",
       "\n"
      ],
      "text/plain": [
       "[1] 31  3"
      ]
     },
     "metadata": {},
     "output_type": "display_data"
    }
   ],
   "source": [
    "# clean up the dataset and take a peek at it\n",
    "cherry = trees %>% rename(diam = Girth, height = Height, vol = Volume)\n",
    "head(cherry)\n",
    "dim(cherry)"
   ]
  },
  {
   "cell_type": "code",
   "execution_count": 7,
   "id": "9a76a7ed-4812-4b2e-8418-44e8a9ac271e",
   "metadata": {},
   "outputs": [
    {
     "data": {
      "image/png": "[encoded data removed]",
      "text/plain": [
       "plot without title"
      ]
     },
     "metadata": {
      "image/png": {
       "height": 420,
       "width": 420
      }
     },
     "output_type": "display_data"
    }
   ],
   "source": [
    "# visualize relationship between tree height and volume\n",
    "ggplot(cherry, aes(x = height, y = vol)) + geom_point()"
   ]
  },
  {
   "cell_type": "code",
   "execution_count": 14,
   "id": "9b5f9242-80bd-4a57-a46e-0d93ab5c57eb",
   "metadata": {},
   "outputs": [
    {
     "data": {
      "text/plain": [
       "\n",
       "Call:\n",
       "lm(formula = vol ~ height, data = cherry)\n",
       "\n",
       "Residuals:\n",
       "    Min      1Q  Median      3Q     Max \n",
       "-21.274  -9.894  -2.894  12.068  29.852 \n",
       "\n",
       "Coefficients:\n",
       "            Estimate Std. Error t value Pr(>|t|)    \n",
       "(Intercept) -87.1236    29.2731  -2.976 0.005835 ** \n",
       "height        1.5433     0.3839   4.021 0.000378 ***\n",
       "---\n",
       "Signif. codes:  0 ‘***’ 0.001 ‘**’ 0.01 ‘*’ 0.05 ‘.’ 0.1 ‘ ’ 1\n",
       "\n",
       "Residual standard error: 13.4 on 29 degrees of freedom\n",
       "Multiple R-squared:  0.3579,\tAdjusted R-squared:  0.3358 \n",
       "F-statistic: 16.16 on 1 and 29 DF,  p-value: 0.0003784\n"
      ]
     },
     "metadata": {},
     "output_type": "display_data"
    }
   ],
   "source": [
    "# fit a bivariate linear model predicting volume with height\n",
    "height_model = lm(vol ~ height, cherry)\n",
    "summary(height_model)"
   ]
  },
  {
   "cell_type": "code",
   "execution_count": 17,
   "id": "742dca26-e627-4b2b-8c40-dc3392809827",
   "metadata": {},
   "outputs": [
    {
     "data": {
      "text/html": [
       "<style>\n",
       ".dl-inline {width: auto; margin:0; padding: 0}\n",
       ".dl-inline>dt, .dl-inline>dd {float: none; width: auto; display: inline-block}\n",
       ".dl-inline>dt::after {content: \":\\0020\"; padding-right: .5ex}\n",
       ".dl-inline>dt:not(:first-of-type) {padding-left: .5ex}\n",
       "</style><dl class=dl-inline><dt>(Intercept)</dt><dd>-87.1236135388528</dd><dt>height</dt><dd>1.54334975369458</dd></dl>\n"
      ],
      "text/latex": [
       "\\begin{description*}\n",
       "\\item[(Intercept)] -87.1236135388528\n",
       "\\item[height] 1.54334975369458\n",
       "\\end{description*}\n"
      ],
      "text/markdown": [
       "(Intercept)\n",
       ":   -87.1236135388528height\n",
       ":   1.54334975369458\n",
       "\n"
      ],
      "text/plain": [
       "(Intercept)      height \n",
       "  -87.12361     1.54335 "
      ]
     },
     "metadata": {},
     "output_type": "display_data"
    }
   ],
   "source": [
    "# take a look at the parameters learned by the model \n",
    "height_model$coefficients"
   ]
  },
  {
   "cell_type": "code",
   "execution_count": 18,
   "id": "2bf7aa40-7c4f-4a77-b40c-0595069be9dd",
   "metadata": {},
   "outputs": [
    {
     "data": {
      "image/png": "[encoded data removed]",
      "text/plain": [
       "plot without title"
      ]
     },
     "metadata": {
      "image/png": {
       "height": 420,
       "width": 420
      }
     },
     "output_type": "display_data"
    }
   ],
   "source": [
    "# re-generate the scatterplot with the regression line we just fit\n",
    "ggplot(cherry, aes(x = height, y = vol)) + \n",
    "    geom_point() + \n",
    "    geom_abline(slope = height_model$coefficients[2], \n",
    "                intercept = height_model$coefficients[1])"
   ]
  },
  {
   "cell_type": "code",
   "execution_count": 8,
   "id": "6e2a953d-f853-4a0f-82e9-4de422bb0bf9",
   "metadata": {},
   "outputs": [
    {
     "data": {
      "image/png": "[encoded data removed]",
      "text/plain": [
       "plot without title"
      ]
     },
     "metadata": {
      "image/png": {
       "height": 420,
       "width": 420
      }
     },
     "output_type": "display_data"
    }
   ],
   "source": [
    "# do this all over again for volume instead of height - which performs better?\n",
    "ggplot(cherry, aes(x = diam, y = vol)) + geom_point()"
   ]
  },
  {
   "cell_type": "code",
   "execution_count": 20,
   "id": "20a6ddf2-413e-4157-80dd-d4cb09f8b61e",
   "metadata": {},
   "outputs": [
    {
     "data": {
      "text/plain": [
       "\n",
       "Call:\n",
       "lm(formula = vol ~ diam, data = cherry)\n",
       "\n",
       "Residuals:\n",
       "   Min     1Q Median     3Q    Max \n",
       "-8.065 -3.107  0.152  3.495  9.587 \n",
       "\n",
       "Coefficients:\n",
       "            Estimate Std. Error t value Pr(>|t|)    \n",
       "(Intercept) -36.9435     3.3651  -10.98 7.62e-12 ***\n",
       "diam          5.0659     0.2474   20.48  < 2e-16 ***\n",
       "---\n",
       "Signif. codes:  0 ‘***’ 0.001 ‘**’ 0.01 ‘*’ 0.05 ‘.’ 0.1 ‘ ’ 1\n",
       "\n",
       "Residual standard error: 4.252 on 29 degrees of freedom\n",
       "Multiple R-squared:  0.9353,\tAdjusted R-squared:  0.9331 \n",
       "F-statistic: 419.4 on 1 and 29 DF,  p-value: < 2.2e-16\n"
      ]
     },
     "metadata": {},
     "output_type": "display_data"
    }
   ],
   "source": [
    "diam_model = lm(vol ~ diam, cherry)\n",
    "summary(diam_model)"
   ]
  },
  {
   "cell_type": "code",
   "execution_count": 21,
   "id": "32bc8ef2-8107-4f74-a783-71654761a973",
   "metadata": {},
   "outputs": [
    {
     "data": {
      "image/png": "[encoded data removed]",
      "text/plain": [
       "plot without title"
      ]
     },
     "metadata": {
      "image/png": {
       "height": 420,
       "width": 420
      }
     },
     "output_type": "display_data"
    }
   ],
   "source": [
    "ggplot(cherry, aes(x = diam, y = vol)) + \n",
    "    geom_point() + \n",
    "    geom_abline(slope = diam_model$coefficients[2], \n",
    "                intercept = diam_model$coefficients[1])"
   ]
  },
  {
   "cell_type": "code",
   "execution_count": 23,
   "id": "e6cac1c3-71ea-4d05-9bf2-bfc46b9ade46",
   "metadata": {},
   "outputs": [
    {
     "data": {
      "text/plain": [
       "\n",
       "Call:\n",
       "lm(formula = vol ~ diam + height, data = cherry)\n",
       "\n",
       "Residuals:\n",
       "    Min      1Q  Median      3Q     Max \n",
       "-6.4065 -2.6493 -0.2876  2.2003  8.4847 \n",
       "\n",
       "Coefficients:\n",
       "            Estimate Std. Error t value Pr(>|t|)    \n",
       "(Intercept) -57.9877     8.6382  -6.713 2.75e-07 ***\n",
       "diam          4.7082     0.2643  17.816  < 2e-16 ***\n",
       "height        0.3393     0.1302   2.607   0.0145 *  \n",
       "---\n",
       "Signif. codes:  0 ‘***’ 0.001 ‘**’ 0.01 ‘*’ 0.05 ‘.’ 0.1 ‘ ’ 1\n",
       "\n",
       "Residual standard error: 3.882 on 28 degrees of freedom\n",
       "Multiple R-squared:  0.948,\tAdjusted R-squared:  0.9442 \n",
       "F-statistic:   255 on 2 and 28 DF,  p-value: < 2.2e-16\n"
      ]
     },
     "metadata": {},
     "output_type": "display_data"
    }
   ],
   "source": [
    "# try putting both predictor variables into the model (i.e. use height as a covariate)\n",
    "full_model = lm(vol ~ diam + height, cherry)\n",
    "summary(full_model)"
   ]
  },
  {
   "cell_type": "code",
   "execution_count": 25,
   "id": "b52f3998-7ceb-4616-b2a7-040bc0f5b265",
   "metadata": {},
   "outputs": [
    {
     "data": {
      "text/html": [
       "252.798584789294"
      ],
      "text/latex": [
       "252.798584789294"
      ],
      "text/markdown": [
       "252.798584789294"
      ],
      "text/plain": [
       "[1] 252.7986"
      ]
     },
     "metadata": {},
     "output_type": "display_data"
    },
    {
     "data": {
      "text/html": [
       "181.644721048378"
      ],
      "text/latex": [
       "181.644721048378"
      ],
      "text/markdown": [
       "181.644721048378"
      ],
      "text/plain": [
       "[1] 181.6447"
      ]
     },
     "metadata": {},
     "output_type": "display_data"
    },
    {
     "data": {
      "text/html": [
       "176.90997298727"
      ],
      "text/latex": [
       "176.90997298727"
      ],
      "text/markdown": [
       "176.90997298727"
      ],
      "text/plain": [
       "[1] 176.91"
      ]
     },
     "metadata": {},
     "output_type": "display_data"
    }
   ],
   "source": [
    "# compare the models to each other with AIC - lower is better\n",
    "AIC(height_model)\n",
    "AIC(diam_model)\n",
    "AIC(full_model)"
   ]
  },
  {
   "cell_type": "code",
   "execution_count": null,
   "id": "c8aad0f5-ecac-4147-b959-1815d5940a5c",
   "metadata": {},
   "outputs": [],
   "source": []
  }
 ],
 "metadata": {
  "kernelspec": {
   "display_name": "R [conda env:base] *",
   "language": "R",
   "name": "conda-base-r"
  },
  "language_info": {
   "codemirror_mode": "r",
   "file_extension": ".r",
   "mimetype": "text/x-r-source",
   "name": "R",
   "pygments_lexer": "r",
   "version": "4.4.2"
  }
 },
 "nbformat": 4,
 "nbformat_minor": 5
}
