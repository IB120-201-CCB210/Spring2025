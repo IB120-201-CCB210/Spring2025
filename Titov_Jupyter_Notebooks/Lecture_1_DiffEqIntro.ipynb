{
 "cells": [
  {
   "cell_type": "markdown",
   "metadata": {},
   "source": [
    "# <center>CMPBIO210, IB120, IB201\n",
    "# <center>\"Introduction to Quantitative Methods in Biology\"\n",
    "# <center>Lecture 1. Differential Equations Intro  \n",
    "## <center>Denis Titov"
   ]
  },
  {
   "cell_type": "markdown",
   "metadata": {},
   "source": [
    "**The main goal of this jupyter notebook is to introduce you to the calculus approach of answering questions.  \n",
    "A secondary goal is to introduce you to numerical and analytical solutions of differential equations using Python with SciPy solve_ivp() and SymPy dsolve(), respectively**"
   ]
  },
  {
   "cell_type": "markdown",
   "metadata": {},
   "source": [
    "A major goal of science is to understand how things work so that we can predict how a system will evolve over time strarting from some initial conditions.  \n",
    "Differential equations is the mathematical tool that scientists use to achieve this goal.  \n",
    "  \n",
    "Some examples of questions that can be answered using differential equations:\n",
    "- calculate concentration of metabolites at time $t$ from concentrations at $t=0$ and enzyme reaction rates\n",
    "- calculate concentrations of mRNA and protein at time $t$ from concentrations at $t=0$ and transcription, translation, degradation rates\n",
    "- calculate population size at time $t$ from initial population size and growth rates  \n",
    "- calculate the number of infected people at time $t$ from number of people at $t=0$ and virus transmission rates\n",
    "- calculate position of an object at time $t$ from position at $t=0$ and speed and acceleration of the object"
   ]
  },
  {
   "cell_type": "code",
   "execution_count": null,
   "metadata": {},
   "outputs": [],
   "source": [
    "import matplotlib.pyplot as plt\n",
    "import numpy as np\n",
    "import sympy as sym\n",
    "from scipy.integrate import solve_ivp"
   ]
  },
  {
   "cell_type": "markdown",
   "metadata": {
    "tags": []
   },
   "source": [
    "## Let's re-discover calculus by attempting to answer the following question without using words like a derivative or integral or any other fancy math terms.\n",
    "#### What is the value of a metabolite concentration, population size or protein concentration at time $t$ given the initial value and the rate of change?\n",
    "Let's say we have something that changes over time and we know the rate of change. For example, \n",
    "  \n",
    "Metabolite concentration $[Metabolite]$ that is changing at a rate $\\frac{\\Delta [Metabolite]}{\\Delta t}=\\frac{[Metabolite]_{t_2}-[Metabolite]_{t_1}}{t_2-t_1}$  \n",
    "  \n",
    "Population of Individuals $N$ that is changing at a rate $\\frac{\\Delta N}{\\Delta t}=\\frac{N_{t_2}-N_{t_1}}{t_2-t_1}$  \n",
    " \n",
    "Protein concentration $[Protein]$ that is changing at a rate $\\frac{\\Delta [Protein]}{\\Delta t}=\\frac{[Protein]_{t_2}-[Protein]_{t_1}}{t_2-t_1}$\n",
    "\n",
    "#### Calculus helps answer the following question: What would be a value of $[Metabolite]$, $N$ or $[Protein]$ at a point in time in the future given starting values $[Metabolite]_0$, $N_0$ or $[Protein]_0$ and corresponding rates $\\frac{\\Delta [Metabolite]}{\\Delta t}$, $\\frac{\\Delta N}{\\Delta t}$ and $\\frac{\\Delta [Protein]}{\\Delta t}$?\n",
    "\n",
    "It is relatively easy to answer the above question if $\\frac{\\Delta [Protein]}{\\Delta t}$ is a constant (i.e., $\\frac{\\Delta [Protein]}{\\Delta t}=Some Number$)  \n",
    "If $\\frac{\\Delta [Protein]}{\\Delta t}$ is constant then $[Protein](t)=[Protein]_0 + \\frac{\\Delta [Protein]}{\\Delta t} * t$"
   ]
  },
  {
   "cell_type": "markdown",
   "metadata": {},
   "source": [
    " "
   ]
  },
  {
   "cell_type": "markdown",
   "metadata": {},
   "source": [
    "#### Now let's do the same calculation as above but for non-constant $\\frac{\\Delta [Metabolite]}{\\Delta t}$, $\\frac{\\Delta N}{\\Delta t}$ and $\\frac{\\Delta [Protein]}{\\Delta t}$ (i.e., $\\frac{\\Delta [Protein]}{\\Delta t}=f([Protein], t)$)  \n",
    "Let's use $\\frac{\\Delta [Protein]}{\\Delta t}=\\alpha \\cdot [mRNA] - \\gamma \\cdot [Protein]$ as an example but principle is the same for any $\\frac{\\Delta [Protein]}{\\Delta t}=f([Protein], t)$  \n",
    "where $\\alpha$ is the translation rate and $\\gamma$ is the protein degradation rate.  \n",
    "\n",
    "An approach to answering the question above we simply divide the time into several segments and assume $\\frac{\\Delta [Protein]}{\\Delta t}$ is constant in each segment so within a segment we can use the same simple arithmetic calculation as above $[Protein]_{t_2}=[Protein]_{t_1} + \\frac{\\Delta [Protein]}{\\Delta t}_{t_1} * (t_2-t_1)$  \n",
    "So then we can do a series of calculation like this for each segment:  \n",
    "$[Protein]_{t_1}=[Protein]_{0} + \\frac{\\Delta [Protein]}{\\Delta t}_{0} \\cdot (t_1-0)$  \n",
    "$[Protein]_{t_2}=[Protein]_{t_1} + \\frac{\\Delta [Protein]}{\\Delta t}_{t_1} \\cdot (t_2-t_1)$  \n",
    "$[Protein]_{t_3}=[Protein]_{t_2} + \\frac{\\Delta [Protein]}{\\Delta t}_{t_2} \\cdot (t_3-t_2)$  \n",
    "...  \n",
    "$[Protein]_{t_n}=[Protein]_{t_{n-1}} + \\frac{\\Delta [Protein]}{\\Delta t}_{t_{n-1}} \\cdot (t_{n}-t_{n-1})$  \n",
    "Our answer will be more and more accurate if we take a smaller and smaller $t_{n}-t_{n-1}$ segments.  \n",
    "\n",
    "Lets implement above using Python code"
   ]
  },
  {
   "cell_type": "code",
   "execution_count": null,
   "metadata": {},
   "outputs": [],
   "source": [
    "# Model parameters\n",
    "alpha = 1  # translation rate\n",
    "gamma = 0.1  # degradation rate\n",
    "mRNA_conc = 1  # mRNA concentration\n",
    "InitialProtein = 0  # initial protein concentration\n",
    "\n",
    "# Segmentation setup\n",
    "final_timepoint = 50\n",
    "number_segments = 10\n",
    "segment_length = final_timepoint / number_segments\n",
    "\n",
    "# Create plot\n",
    "fig, axs = plt.subplots(1, 2, figsize=(14, 5), constrained_layout=True)\n",
    "\n",
    "# Initialize tracking arrays\n",
    "Calc_Protein = [InitialProtein]\n",
    "Calc_time = [0]\n",
    "Calc_rates = [alpha * mRNA_conc - gamma * InitialProtein]\n",
    "\n",
    "# Calculate each segment\n",
    "protein, time = InitialProtein, 0\n",
    "for i in range(1, number_segments + 1):\n",
    "    # Calculate for this segment\n",
    "    next_time = i * segment_length\n",
    "    rate = alpha * mRNA_conc - gamma * protein\n",
    "    protein = protein + rate * (next_time - time)\n",
    "    time = next_time\n",
    "    \n",
    "    # Store results\n",
    "    Calc_Protein.append(protein)\n",
    "    Calc_time.append(time)\n",
    "    Calc_rates.append(alpha * mRNA_conc - gamma * protein)\n",
    "\n",
    "# Plot rates and protein concentration\n",
    "axs[0].scatter(Calc_time, Calc_rates, marker=\"o\", color=\"red\")\n",
    "axs[0].vlines(np.linspace(0, final_timepoint, number_segments+1), 0, alpha * mRNA_conc, color=\"red\", alpha=0.3)\n",
    "axs[0].set_ylabel(r\"$\\frac{d[Protein]}{dt}$\", fontsize=20)\n",
    "axs[0].set_ylim(0, 1.1 * alpha * mRNA_conc)\n",
    "\n",
    "axs[1].scatter(Calc_time, Calc_Protein, marker=\"o\")\n",
    "axs[1].set_ylabel(\"$[Protein](t)$\", fontsize=20)\n",
    "\n",
    "# Style both plots\n",
    "for ax in axs:\n",
    "    ax.tick_params(labelsize=15)\n",
    "    ax.grid(True)\n",
    "    ax.set_xlabel(\"Time, $t$\", fontsize=20)\n",
    "\n",
    "# Add title\n",
    "fig.suptitle(r\"Solving $\\frac{d[Protein]}{dt} = \\alpha \\cdot [mRNA] - \\gamma \\cdot [Protein]$\", fontsize=20);"
   ]
  },
  {
   "cell_type": "markdown",
   "metadata": {
    "tags": []
   },
   "source": [
    "#### What we just did above is really the essence of calculus approach - subdividing a calculation into many segments, assume things are linear in each segment and can be easily calculated and then reassembling the calculation from each segment into the final answer.  \n",
    "#### Many tricks have been invented over the last several centuries about how to do the trick but the idea is the same.  \n",
    "Another way to describe what we did above is to say that we solved the following differential equations:  \n",
    "$\\frac{d[Protein](t)}{dt} = \\alpha \\cdot [mRNA]-\\gamma \\cdot [Protein]$  with initial condition $[Protein]_0 = 0$  \n",
    "Yet another way to describe what we did above is to say that we calculated the following integral:  \n",
    "$[Protein](t)=\\int_{0}^{t}(\\alpha \\cdot [mRNA]-\\gamma \\cdot [Protein])dt $  \n",
    "#### Any differential equation or integral can be solved using the computer and the trick above where as a solution you get a list of numbers like we did above. This is called a numerical solution.    \n",
    "A small fraction of differential equations can be solved exactly (i.e. find $[Protein](t)=f(Protein,t)$) instead of finding a list of numbers like we did in a numerical solution) using trick taught in undergrad differential equations classes. This is called an analytical solution and computers can be used to analytical solution in the cases where they exist. \n",
    "#### We will exclusively use computers to solve differential equations during this class and mostly use numerical solutions since most practically interesting problems cannot be solved exactly and using a computer is \"easy\"."
   ]
  },
  {
   "cell_type": "markdown",
   "metadata": {},
   "source": [
    "  "
   ]
  },
  {
   "cell_type": "markdown",
   "metadata": {
    "tags": []
   },
   "source": [
    "## Numerical solution of $\\frac{d[Protein]}{dt}=\\alpha \\cdot [mRNA]-\\gamma \\cdot [Protein]$\n",
    "**We will have a whole lecture about numerical solutions of differential equations.**  \n",
    "We can solve $\\frac{d[Protein](t)}{dt}=\\alpha \\cdot [mRNA]-\\gamma \\cdot [Protein]$ numerically (i.e. find numbers that correspond to a solution without finding an exact function) using the SciPy library that allows numerical calculations in Python."
   ]
  },
  {
   "cell_type": "code",
   "execution_count": null,
   "metadata": {},
   "outputs": [],
   "source": [
    "# %%timeit\n",
    "\n",
    "# \"%%timeit\" command above is called a \"magic command\" and\n",
    "# this command allows you to measure code execution time\n",
    "# uncomment it to see how fast the differential solution is\n",
    "\n",
    "alpha = 1\n",
    "gamma = 0.1\n",
    "mRNA = 1\n",
    "final_timepoint = 50\n",
    "number_of_timepoints = 1000\n",
    "\n",
    "# Numerically solve diff equations (dPdt = alpha*mRNA - gamma*Protein)\n",
    "# given Protein0=0 for time points (tspan=[0,final_timepoint]) and save all timepoints in t_eval\n",
    "\n",
    "# Write down differential equation to be solved\n",
    "# Change this differential equation to other functions that depend on t to find their solutions\n",
    "def ODE(t, y):\n",
    "    Protein = y[0]\n",
    "    dPdt = alpha*mRNA - gamma*Protein\n",
    "    return [dPdt]\n",
    "\n",
    "\n",
    "# Write down initial condition and tspan of time that we want the solution at\n",
    "Protein0 = [0]\n",
    "tspan = [0, final_timepoint]\n",
    "# Actual solution is just this one line of code\n",
    "soln = solve_ivp(\n",
    "    ODE, tspan, Protein0, t_eval=np.linspace(0, final_timepoint, number_of_timepoints)\n",
    ")\n",
    "\n",
    "# Lets plot the solution\n",
    "plt.scatter(soln.t, soln.y[0])\n",
    "plt.ylabel(\"$[Protein](t)$\", fontsize=20)\n",
    "plt.tick_params(labelsize=15)\n",
    "plt.grid(which=\"major\", axis=\"both\")\n",
    "plt.xlabel(\"Time, $t$\", fontsize=20);"
   ]
  },
  {
   "cell_type": "markdown",
   "metadata": {},
   "source": [
    "*solve_ivp()* has a lot of various options for using specific algorythms, introducing events etc that you can lookup using *solve_ivp?* and that we will review during our numerical calculations lecture"
   ]
  },
  {
   "cell_type": "code",
   "execution_count": null,
   "metadata": {
    "tags": []
   },
   "outputs": [],
   "source": [
    "solve_ivp?"
   ]
  },
  {
   "cell_type": "markdown",
   "metadata": {},
   "source": []
  },
  {
   "cell_type": "markdown",
   "metadata": {
    "tags": []
   },
   "source": [
    "## Analytical solution of $\\frac{d[Protein]}{dt}=\\alpha \\cdot [mRNA]- \\gamma \\cdot [Protein]$\n",
    "**We will have a whole lecture about analytical solutions of differential equations.**  \n",
    "We can solve $\\frac{d[Protein]}{dt}=\\alpha \\cdot [mRNA]- \\gamma \\cdot [Protein]$  analytically (i.e. find an exact function so that $Protein(t)=f(t)$) using SymPy library that allows symbolic calculations in Python."
   ]
  },
  {
   "cell_type": "code",
   "execution_count": null,
   "metadata": {},
   "outputs": [],
   "source": [
    "# In order to do symbolic calculations we need to tell the computer\n",
    "# what is a function and what is a variable\n",
    "Protein = sym.symbols(\"Protein\", cls=sym.Function)  # this defines N as a function\n",
    "alpha = sym.symbols(\"alpha\")  # this defines alpha as variable\n",
    "gamma = sym.symbols(\"gamma\")  # this defines gamma as variable\n",
    "mRNA = sym.symbols(\"mRNA\")  # this defines mRNA as variable\n",
    "t, Protein0 = sym.symbols(\"t, Protein0\")  # this defines t and N0 as variable\n",
    "\n",
    "# Write the differential equation that we want to solve\n",
    "# Change this differential equation to other functions that depend on t to find their solutions\n",
    "Equation = sym.Eq(sym.diff(Protein(t), t), alpha * mRNA - gamma * Protein(t))\n",
    "# Solve differential equation\n",
    "sym.dsolve(Equation, Protein(t), ics={Protein(0): Protein0})"
   ]
  },
  {
   "cell_type": "markdown",
   "metadata": {},
   "source": [
    "*The above three lines of code will solve any differential equation from a Differential Equations textbook (i.e. any differential equation that has an analytical solution) highlighting the power of python and SymPy.*  \n",
    "  \n",
    "Try this textbook avalable online if interested: https://archive.org/details/C.HenryEdwardsDavidE.PenneyElementaryDifferentialEquations6thEdition/page/n13/mode/1up"
   ]
  }
 ],
 "metadata": {
  "kernelspec": {
   "display_name": "Python 3",
   "language": "python",
   "name": "python3"
  },
  "language_info": {
   "codemirror_mode": {
    "name": "ipython",
    "version": 3
   },
   "file_extension": ".py",
   "mimetype": "text/x-python",
   "name": "python",
   "nbconvert_exporter": "python",
   "pygments_lexer": "ipython3",
   "version": "3.12.0"
  }
 },
 "nbformat": 4,
 "nbformat_minor": 4
}
